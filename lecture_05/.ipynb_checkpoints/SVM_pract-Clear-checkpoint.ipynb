{
 "cells": [
  {
   "cell_type": "code",
   "execution_count": null,
   "metadata": {},
   "outputs": [],
   "source": [
    "! pip install sklearn\n",
    "! pip install seaborn\n",
    "! pip install matplotlib\n",
    "! pip install cvxopt"
   ]
  },
  {
   "cell_type": "code",
   "execution_count": null,
   "metadata": {},
   "outputs": [],
   "source": [
    "import warnings\n",
    "warnings.filterwarnings('ignore')\n",
    "\n",
    "%matplotlib inline\n",
    "import numpy as np\n",
    "import cvxopt\n",
    "from sklearn.datasets.samples_generator import make_blobs\n",
    "from sklearn.model_selection import train_test_split\n",
    "from matplotlib import pyplot as plt\n",
    "from sklearn.svm import LinearSVC\n",
    "from sklearn.metrics import confusion_matrix\n",
    "import seaborn as sns; sns.set()  # for plot styling"
   ]
  },
  {
   "cell_type": "markdown",
   "metadata": {},
   "source": [
    "# Собственная реализация"
   ]
  },
  {
   "cell_type": "code",
   "execution_count": null,
   "metadata": {},
   "outputs": [],
   "source": [
    "from IPython.display import Image\n",
    "Image(\"/Users/d.merkushov/Desktop/conv.png\")"
   ]
  },
  {
   "cell_type": "code",
   "execution_count": null,
   "metadata": {},
   "outputs": [],
   "source": [
    "X, y = make_blobs(n_samples=250, centers=2,\n",
    "                  random_state=0, cluster_std=0.6)\n",
    "y[y == 0] = -1\n",
    "tmp = np.ones(len(X))\n",
    "y = tmp * y"
   ]
  },
  {
   "cell_type": "code",
   "execution_count": null,
   "metadata": {},
   "outputs": [],
   "source": [
    "plt.scatter(X[:, 0], X[:, 1], c=y, cmap='winter')"
   ]
  },
  {
   "cell_type": "code",
   "execution_count": null,
   "metadata": {
    "code_folding": [],
    "collapsed": true
   },
   "outputs": [],
   "source": [
    "class LinearSVM():\n",
    "    def __init__(self, C=1, gamma=1):\n",
    "        self._C = C\n",
    "        self._gamma = gamma\n",
    "    \n",
    "    def fit(self, X, y):\n",
    "        n_samples, n_features = X.shape\n",
    "        K = np.zeros((n_samples, n_samples))\n",
    "        for i in range(n_samples):\n",
    "            for j in range(n_samples):\n",
    "                K[i,j] = np.dot(X[i], X[j])\n",
    "        # P = X^T X\n",
    "        P = cvxopt.matrix(np.outer(y, y) * K)\n",
    "        # q = -1 (1xN)\n",
    "        q = cvxopt.matrix(np.ones(n_samples) * -self._C)\n",
    "        # A = y^T \n",
    "        A = cvxopt.matrix(y, (1, n_samples))\n",
    "        # b = 0 \n",
    "        b = cvxopt.matrix(0.0)\n",
    "        # -1 (NxN)\n",
    "        G = cvxopt.matrix(np.diag(np.ones(n_samples) * -1))\n",
    "        # 0 (1xN)\n",
    "        h = cvxopt.matrix(np.zeros(n_samples))\n",
    "    \n",
    "        solution = cvxopt.solvers.qp(P, q, G, h, A, b)\n",
    "    \n",
    "        # Множители Лагранжа\n",
    "        a = np.ravel(solution['x'])\n",
    "        \n",
    "        self.a = None\n",
    "        self.sv = None\n",
    "        self.sv_y = None\n",
    "\n",
    "        self.b = None\n",
    "        self.w = None\n",
    "    \n",
    "    def project(self, X):\n",
    "        return None\n",
    "\n",
    "    def predict(self, X):\n",
    "        return np.sign(self.project(X))\n",
    "    \n",
    "    def plot(self, X):\n",
    "        ax = plt.gca()\n",
    "        xlim = ax.get_xlim()\n",
    "        ylim = ax.get_ylim()\n",
    "        \n",
    "        x = np.linspace(np.min(X[:,0]), np.max(X[:,0]), 30)\n",
    "        y = np.linspace(np.min(X[:,1]), np.max(X[:,1]), 30)\n",
    "        X_, Y_ = np.meshgrid(y, x)\n",
    "\n",
    "        xy = np.vstack([X_.ravel(), Y_.ravel()]).T\n",
    "        P = self.project(xy).reshape(X_.shape)\n",
    "\n",
    "        # plot decision boundary and margins\n",
    "        ax.contour(X_, Y_, P, colors='k',\n",
    "                   levels=[-1, 0, 1], alpha=0.5,\n",
    "                   linestyles=['--', '-', '--'])"
   ]
  },
  {
   "cell_type": "code",
   "execution_count": null,
   "metadata": {
    "collapsed": true
   },
   "outputs": [],
   "source": [
    "X_train, X_test, y_train, y_test = train_test_split(X, y, random_state=0)"
   ]
  },
  {
   "cell_type": "code",
   "execution_count": null,
   "metadata": {},
   "outputs": [],
   "source": [
    "svm = LinearSVM(C=1)\n",
    "svm.fit(X_train, y_train)\n",
    "plt.scatter(X_train[:, 0], X_train[:, 1], c=y_train, cmap='winter')\n",
    "svm.plot(X_train)"
   ]
  },
  {
   "cell_type": "code",
   "execution_count": null,
   "metadata": {},
   "outputs": [],
   "source": [
    "pred = svm.predict(X_test)\n",
    "target = y_test"
   ]
  },
  {
   "cell_type": "code",
   "execution_count": null,
   "metadata": {},
   "outputs": [],
   "source": [
    "from sklearn.metrics import precision_score, accuracy_score, classification_report\n",
    "\n",
    "print classification_report(target, pred)"
   ]
  },
  {
   "cell_type": "markdown",
   "metadata": {},
   "source": [
    "# Нелинейный случай"
   ]
  },
  {
   "cell_type": "code",
   "execution_count": null,
   "metadata": {
    "collapsed": true
   },
   "outputs": [],
   "source": [
    "from sklearn.datasets.samples_generator import make_circles\n",
    "X, y = make_circles(100, factor=.1, noise=.1)\n",
    "\n",
    "y[y == 0] = -1\n",
    "tmp = np.ones(len(X))\n",
    "y = tmp * y"
   ]
  },
  {
   "cell_type": "code",
   "execution_count": null,
   "metadata": {},
   "outputs": [],
   "source": [
    "plt.scatter(X[:, 0], X[:, 1], c=y, cmap='winter')"
   ]
  },
  {
   "cell_type": "code",
   "execution_count": null,
   "metadata": {
    "collapsed": true
   },
   "outputs": [],
   "source": [
    "X_train, X_test, y_train, y_test = train_test_split(X, y, random_state=0)"
   ]
  },
  {
   "cell_type": "code",
   "execution_count": null,
   "metadata": {},
   "outputs": [],
   "source": [
    "svm = LinearSVM(C=1)\n",
    "svm.fit(X_train, y_train)"
   ]
  },
  {
   "cell_type": "code",
   "execution_count": null,
   "metadata": {},
   "outputs": [],
   "source": [
    "plt.scatter(X_train[:, 0], X_train[:, 1], c=y_train, cmap='winter')\n",
    "svm.plot(X_train)"
   ]
  },
  {
   "cell_type": "markdown",
   "metadata": {},
   "source": [
    "## Kernel SVM"
   ]
  },
  {
   "cell_type": "code",
   "execution_count": null,
   "metadata": {},
   "outputs": [],
   "source": [
    "class KernelSVM:\n",
    "    def __init__(self, C=1, ker='rbf', gamma=1):\n",
    "        self._C = C\n",
    "        self._Ker = self.linear\n",
    "        if ker=='rbf': self._Ker = self.rbf\n",
    "        self._gamma = gamma\n",
    "    \n",
    "    def fit(self, X, y):\n",
    "        n_samples, n_features = X.shape\n",
    "        K = np.zeros((n_samples, n_samples))\n",
    "        for i in range(n_samples):\n",
    "            for j in range(n_samples):\n",
    "                K[i,j] = np.dot(X[i], X[j])\n",
    "        # P = X^T X\n",
    "        P = cvxopt.matrix(np.outer(y, y) * K)\n",
    "        # q = -1 (1xN)\n",
    "        q = cvxopt.matrix(np.ones(n_samples) * -self._C)\n",
    "        # A = y^T \n",
    "        A = cvxopt.matrix(y, (1, n_samples))\n",
    "        # b = 0 \n",
    "        b = cvxopt.matrix(0.0)\n",
    "        # -1 (NxN)\n",
    "        G = cvxopt.matrix(np.diag(np.ones(n_samples) * -1))\n",
    "        # 0 (1xN)\n",
    "        h = cvxopt.matrix(np.zeros(n_samples))\n",
    "    \n",
    "        solution = cvxopt.solvers.qp(P, q, G, h, A, b)\n",
    "    \n",
    "        # Множители Лагранжа\n",
    "        a = np.ravel(solution['x'])\n",
    "        \n",
    "        self.a = None\n",
    "        self.sv = None\n",
    "        self.sv_y = None\n",
    "\n",
    "        self.b = None\n",
    "        self.w = None\n",
    "    \n",
    "    def rbf(self, x, y):\n",
    "        if len(x.shape) > 1:\n",
    "            return np.exp(-np.diagonal(np.dot(x-y, (x-y).T)) * self._gamma)\n",
    "        else: \n",
    "            return np.exp(-(np.dot(x-y, (x-y).T)))\n",
    "        \n",
    "    def linear(self, x, y):\n",
    "        return np.dot(x, y.T)\n",
    "    \n",
    "    def project(self, X):\n",
    "        sum = 0\n",
    "        for n in range(len(self.a)):\n",
    "            sum += self.a[n] * self.sv_y[n] * self._Ker(X, self.sv[n])\n",
    "        return sum + self.b\n",
    "\n",
    "    def predict(self, X):\n",
    "        return np.sign(self.project(X))\n",
    "    \n",
    "    def plot(self, X):\n",
    "        ax = plt.gca()\n",
    "        xlim = ax.get_xlim()\n",
    "        ylim = ax.get_ylim()\n",
    "        \n",
    "        x = np.linspace(np.min(X[:,0]), np.max(X[:,0]), 30)\n",
    "        y = np.linspace(np.min(X[:,1]), np.max(X[:,1]), 30)\n",
    "        X_, Y_ = np.meshgrid(y, x)\n",
    "\n",
    "        xy = np.vstack([X_.ravel(), Y_.ravel()]).T\n",
    "        P = self.project(xy).reshape(X_.shape)\n",
    "\n",
    "        # plot decision boundary and margins\n",
    "        ax.contour(X_, Y_, P, colors='k',\n",
    "                   levels=[-1, 0, 1], alpha=0.5,\n",
    "                   linestyles=['--', '-', '--'])"
   ]
  },
  {
   "cell_type": "code",
   "execution_count": null,
   "metadata": {
    "collapsed": true
   },
   "outputs": [],
   "source": [
    "X_train, X_test, y_train, y_test = train_test_split(X, y, random_state=0)"
   ]
  },
  {
   "cell_type": "code",
   "execution_count": null,
   "metadata": {
    "scrolled": true
   },
   "outputs": [],
   "source": [
    "svm = KernelSVM(C=1, ker='rbf',gamma=5)\n",
    "svm.fit(X_train, y_train)\n",
    "\n",
    "svm.plot(X)\n",
    "plt.scatter(X_train[:, 0], X_train[:, 1], c=y_train, cmap='winter')"
   ]
  },
  {
   "cell_type": "code",
   "execution_count": null,
   "metadata": {
    "collapsed": true
   },
   "outputs": [],
   "source": [
    "pred = svm.predict(X_test)\n",
    "target = y_test"
   ]
  },
  {
   "cell_type": "code",
   "execution_count": null,
   "metadata": {},
   "outputs": [],
   "source": [
    "from sklearn.metrics import precision_score, accuracy_score, classification_report\n",
    "\n",
    "print classification_report(target, pred)"
   ]
  },
  {
   "cell_type": "markdown",
   "metadata": {
    "collapsed": true
   },
   "source": [
    "# SVM как качественный классификатор"
   ]
  },
  {
   "cell_type": "code",
   "execution_count": null,
   "metadata": {},
   "outputs": [],
   "source": [
    "from sklearn.datasets import fetch_lfw_people\n",
    "faces = fetch_lfw_people(min_faces_per_person=60)\n",
    "print(faces.target_names)\n",
    "print(faces.images.shape)"
   ]
  },
  {
   "cell_type": "code",
   "execution_count": null,
   "metadata": {},
   "outputs": [],
   "source": [
    "plt.imshow(faces.images[0], cmap='bone')"
   ]
  },
  {
   "cell_type": "code",
   "execution_count": null,
   "metadata": {},
   "outputs": [],
   "source": [
    "fig, ax = plt.subplots(3, 5)\n",
    "for i, axi in enumerate(ax.flat):\n",
    "    axi.imshow(faces.images[i], cmap='bone')\n",
    "    axi.set(xticks=[], yticks=[],\n",
    "            xlabel=faces.target_names[faces.target[i]])"
   ]
  },
  {
   "cell_type": "code",
   "execution_count": null,
   "metadata": {
    "collapsed": true
   },
   "outputs": [],
   "source": [
    "X = faces.data\n",
    "y = faces.target"
   ]
  },
  {
   "cell_type": "code",
   "execution_count": null,
   "metadata": {},
   "outputs": [],
   "source": [
    "from sklearn.cross_validation import train_test_split\n",
    "X_train, X_test, y_train, y_test = train_test_split(X, y,\n",
    "                                                random_state=42)"
   ]
  },
  {
   "cell_type": "code",
   "execution_count": null,
   "metadata": {},
   "outputs": [],
   "source": [
    "from sklearn.svm import SVC\n",
    "svm = SVC(C=10, gamma=0.001, kernel='rbf', class_weight='balanced')\n",
    "svm.fit(X_train,y_train)"
   ]
  },
  {
   "cell_type": "code",
   "execution_count": null,
   "metadata": {
    "collapsed": true
   },
   "outputs": [],
   "source": [
    "pred = svm.predict(X_test)\n",
    "target = y_test"
   ]
  },
  {
   "cell_type": "code",
   "execution_count": null,
   "metadata": {},
   "outputs": [],
   "source": [
    "from sklearn.metrics import precision_score, accuracy_score, classification_report\n",
    "\n",
    "print classification_report(target, pred)"
   ]
  },
  {
   "cell_type": "code",
   "execution_count": null,
   "metadata": {
    "collapsed": true
   },
   "outputs": [],
   "source": [
    "from sklearn.cross_validation import train_test_split\n",
    "X_train, X_test, y_train, y_test = train_test_split(X, y,\n",
    "                                                random_state=42)\n",
    "\n",
    "from sklearn.svm import SVC\n",
    "svm = SVC(C=10, gamma=0.001, kernel='rbf', class_weight='balanced')\n",
    "svm.fit(X_train,y_train)\n",
    "\n",
    "pred = svm.predict(X_test)\n",
    "target = y_test\n",
    "\n",
    "from sklearn.metrics import precision_score, accuracy_score, classification_report\n",
    "print classification_report(target, pred)"
   ]
  },
  {
   "cell_type": "markdown",
   "metadata": {},
   "source": [
    "# PCA"
   ]
  },
  {
   "cell_type": "code",
   "execution_count": null,
   "metadata": {},
   "outputs": [],
   "source": [
    "from sklearn.decomposition import PCA\n",
    "pca = PCA(n_components=150,whiten=True)\n",
    "pca.fit(faces.data)\n",
    "X = pca.transform(faces.data)"
   ]
  },
  {
   "cell_type": "code",
   "execution_count": null,
   "metadata": {},
   "outputs": [],
   "source": [
    "X.shape"
   ]
  },
  {
   "cell_type": "code",
   "execution_count": null,
   "metadata": {},
   "outputs": [],
   "source": [
    "y = faces.target"
   ]
  },
  {
   "cell_type": "code",
   "execution_count": null,
   "metadata": {},
   "outputs": [],
   "source": [
    "import random\n",
    "test_frac = 0.3\n",
    "num = len(X) * test_frac\n",
    "ids_test = np.random.choice(xrange(len(X)), int(num))"
   ]
  },
  {
   "cell_type": "code",
   "execution_count": null,
   "metadata": {},
   "outputs": [],
   "source": [
    "ids_train = set(np.arange(len(X))) - set(ids_test)\n",
    "ids_train = np.array(list(ids_train))\n",
    "print len(ids_train), len(ids_test)"
   ]
  },
  {
   "cell_type": "code",
   "execution_count": null,
   "metadata": {},
   "outputs": [],
   "source": [
    "X_train = X[ids_train]\n",
    "y_train = faces.target[ids_train]\n",
    "X_test = X[ids_test]\n",
    "y_test = faces.target[ids_test]"
   ]
  },
  {
   "cell_type": "code",
   "execution_count": null,
   "metadata": {},
   "outputs": [],
   "source": [
    "from sklearn.svm import SVC\n",
    "svm = SVC(C=1, gamma=0.001, kernel='rbf', class_weight='balanced')\n",
    "svm.fit(X_train,y_train)\n",
    "\n",
    "pred = svm.predict(X_test)\n",
    "target = y_test\n",
    "\n",
    "from sklearn.metrics import precision_score, accuracy_score, classification_report\n",
    "print classification_report(target, pred)"
   ]
  },
  {
   "cell_type": "code",
   "execution_count": null,
   "metadata": {},
   "outputs": [],
   "source": [
    "from sklearn.metrics import confusion_matrix\n",
    "mat = confusion_matrix(target, pred)\n",
    "\n",
    "sns.heatmap(mat.T, square=True, annot=True, fmt='d', cbar=False,\n",
    "            xticklabels=faces.target_names,\n",
    "            yticklabels=faces.target_names)\n",
    "plt.xlabel('true label')\n",
    "plt.ylabel('predicted label');"
   ]
  },
  {
   "cell_type": "markdown",
   "metadata": {},
   "source": [
    "## Draw Misclassification"
   ]
  },
  {
   "cell_type": "code",
   "execution_count": null,
   "metadata": {},
   "outputs": [],
   "source": [
    "mask = np.logical_and(pred==3, target==1)\n",
    "ids_misclf = ids_test[mask]"
   ]
  },
  {
   "cell_type": "code",
   "execution_count": null,
   "metadata": {},
   "outputs": [],
   "source": [
    "pic = faces.images[ids_misclf[1]]\n",
    "plt.imshow(pic, cmap='bone')"
   ]
  },
  {
   "cell_type": "markdown",
   "metadata": {},
   "source": [
    "## Self kernelSVM"
   ]
  },
  {
   "cell_type": "code",
   "execution_count": null,
   "metadata": {},
   "outputs": [],
   "source": [
    "y = faces.target == 1\n",
    "y = np.array([1. if j else -1. for j in y])"
   ]
  },
  {
   "cell_type": "code",
   "execution_count": null,
   "metadata": {
    "collapsed": true
   },
   "outputs": [],
   "source": [
    "X_train = X[ids_train]\n",
    "y_train = y[ids_train]\n",
    "X_test = X[ids_test]\n",
    "y_test = y[ids_test]"
   ]
  },
  {
   "cell_type": "code",
   "execution_count": null,
   "metadata": {},
   "outputs": [],
   "source": [
    "svm = KernelSVM(C=10, gamma=0.001, ker='rbf')\n",
    "svm.fit(X_train,y_train)\n",
    "\n",
    "pred = svm.predict(X_test)\n",
    "target = y_test\n",
    "\n",
    "from sklearn.metrics import precision_score, accuracy_score, classification_report\n",
    "print classification_report(target, pred)"
   ]
  },
  {
   "cell_type": "markdown",
   "metadata": {},
   "source": [
    "# Cross Validation"
   ]
  },
  {
   "cell_type": "code",
   "execution_count": null,
   "metadata": {},
   "outputs": [],
   "source": [
    "y = faces.target"
   ]
  },
  {
   "cell_type": "code",
   "execution_count": null,
   "metadata": {},
   "outputs": [],
   "source": [
    "from sklearn.cross_validation import train_test_split\n",
    "X_train, y_train = None, None\n",
    "X_test, y_test = None, None\n",
    "X_val, y_val = None, None"
   ]
  },
  {
   "cell_type": "code",
   "execution_count": null,
   "metadata": {},
   "outputs": [],
   "source": [
    "import itertools\n",
    "\n",
    "best_model = None\n",
    "best_f1 = 0\n",
    "best_params = None\n",
    "\n",
    "grid = {'C': [1, 5, 10, 50],\n",
    "              'gamma': [0.0001, 0.0005, 0.001, 0.005]}\n",
    "\n",
    "for c,gamma in itertools.product(grid['C'], grid['gamma']):\n",
    "    pass"
   ]
  },
  {
   "cell_type": "code",
   "execution_count": null,
   "metadata": {},
   "outputs": [],
   "source": [
    "best_params"
   ]
  },
  {
   "cell_type": "code",
   "execution_count": null,
   "metadata": {},
   "outputs": [],
   "source": [
    "pred = best_model.predict(X_test)\n",
    "target = y_test\n",
    "\n",
    "from sklearn.metrics import precision_score, accuracy_score, classification_report\n",
    "print classification_report(target, pred)"
   ]
  },
  {
   "cell_type": "code",
   "execution_count": null,
   "metadata": {
    "collapsed": true
   },
   "outputs": [],
   "source": []
  }
 ],
 "metadata": {
  "kernelspec": {
   "display_name": "Python 3",
   "language": "python",
   "name": "python3"
  },
  "language_info": {
   "codemirror_mode": {
    "name": "ipython",
    "version": 3
   },
   "file_extension": ".py",
   "mimetype": "text/x-python",
   "name": "python",
   "nbconvert_exporter": "python",
   "pygments_lexer": "ipython3",
   "version": "3.7.0"
  },
  "toc": {
   "colors": {
    "hover_highlight": "#DAA520",
    "navigate_num": "#000000",
    "navigate_text": "#333333",
    "running_highlight": "#FF0000",
    "selected_highlight": "#FFD700",
    "sidebar_border": "#EEEEEE",
    "wrapper_background": "#FFFFFF"
   },
   "moveMenuLeft": true,
   "nav_menu": {
    "height": "12px",
    "width": "252px"
   },
   "navigate_menu": true,
   "number_sections": true,
   "sideBar": true,
   "threshold": 4,
   "toc_cell": false,
   "toc_section_display": "block",
   "toc_window_display": true,
   "widenNotebook": false
  }
 },
 "nbformat": 4,
 "nbformat_minor": 2
}
